{
 "cells": [
  {
   "cell_type": "code",
   "execution_count": 43,
   "metadata": {},
   "outputs": [
    {
     "data": {
      "text/plain": [
       "['residencias.csv',\n",
       " 'media_preco.csv',\n",
       " 'airbnb_ny_2019.csv',\n",
       " 'mapeamento_vizinhanca.csv']"
      ]
     },
     "execution_count": 43,
     "metadata": {},
     "output_type": "execute_result"
    }
   ],
   "source": [
    "import pandas as pd\n",
    "import glob\n",
    "import os\n",
    "from sqlalchemy import create_engine\n",
    "\n",
    "os.listdir(\"bases/\")"
   ]
  },
  {
   "cell_type": "code",
   "execution_count": 105,
   "metadata": {},
   "outputs": [],
   "source": [
    "airbnb = pd.read_csv(\"bases/airbnb_ny_2019.csv\")"
   ]
  },
  {
   "cell_type": "code",
   "execution_count": 5,
   "metadata": {},
   "outputs": [],
   "source": [
    "mapviz = pd.read_csv('bases/mapeamento_vizinhanca.csv', sep=';')"
   ]
  },
  {
   "cell_type": "code",
   "execution_count": 6,
   "metadata": {},
   "outputs": [],
   "source": [
    "f_airbnb = airbnb.drop_duplicates()"
   ]
  },
  {
   "cell_type": "code",
   "execution_count": 7,
   "metadata": {},
   "outputs": [],
   "source": [
    "f_airbnb = f_airbnb.dropna()"
   ]
  },
  {
   "cell_type": "code",
   "execution_count": 8,
   "metadata": {},
   "outputs": [],
   "source": [
    "f_mapviz = mapviz.drop_duplicates()"
   ]
  },
  {
   "cell_type": "code",
   "execution_count": 9,
   "metadata": {},
   "outputs": [],
   "source": [
    "f_mapviz = f_mapviz.dropna()"
   ]
  },
  {
   "cell_type": "code",
   "execution_count": 13,
   "metadata": {},
   "outputs": [],
   "source": [
    "new_airbnb = pd.merge(left=f_airbnb, right=f_mapviz, how='left', left_on='neighbourhood', right_on='vizinhanca')"
   ]
  },
  {
   "cell_type": "code",
   "execution_count": 15,
   "metadata": {},
   "outputs": [],
   "source": [
    "del new_airbnb['vizinhanca']"
   ]
  },
  {
   "cell_type": "code",
   "execution_count": 29,
   "metadata": {},
   "outputs": [],
   "source": [
    "new_airbnb.rename(columns={\"vizinhanca_grupo\":\"neighbourhood_group\"}, inplace=True)"
   ]
  },
  {
   "cell_type": "code",
   "execution_count": 72,
   "metadata": {},
   "outputs": [],
   "source": [
    "res = new_airbnb[new_airbnb.neighbourhood_group.isin(['Brooklyn', 'Manhattan', 'Queens', 'Staten Island'])]"
   ]
  },
  {
   "cell_type": "code",
   "execution_count": 73,
   "metadata": {},
   "outputs": [],
   "source": [
    "res.to_csv('bases/residencias.csv', index=False)"
   ]
  },
  {
   "cell_type": "code",
   "execution_count": 106,
   "metadata": {},
   "outputs": [],
   "source": [
    "res = pd.read_csv('bases/residencias.csv', usecols=['neighbourhood_group', 'room_type','price'])"
   ]
  },
  {
   "cell_type": "code",
   "execution_count": 107,
   "metadata": {},
   "outputs": [],
   "source": [
    "means = res.groupby(['neighbourhood_group', 'room_type']).mean()"
   ]
  },
  {
   "cell_type": "code",
   "execution_count": 83,
   "metadata": {},
   "outputs": [],
   "source": [
    "means.to_csv('bases/media_preco.csv')"
   ]
  },
  {
   "cell_type": "markdown",
   "metadata": {},
   "source": [
    "---\n",
    "*A partir daqui, ocorre a carga de um Banco de dados SQLite para uso da API*\n",
    "\n",
    "---"
   ]
  },
  {
   "cell_type": "code",
   "execution_count": 97,
   "metadata": {},
   "outputs": [],
   "source": [
    "res = pd.read_csv('bases/residencias.csv')"
   ]
  },
  {
   "cell_type": "code",
   "execution_count": 98,
   "metadata": {},
   "outputs": [],
   "source": [
    "engine = create_engine('sqlite:///titau/tItau.db', echo=True)"
   ]
  },
  {
   "cell_type": "code",
   "execution_count": 99,
   "metadata": {},
   "outputs": [
    {
     "name": "stdout",
     "output_type": "stream",
     "text": [
      "2020-08-03 14:15:08,504 INFO sqlalchemy.engine.base.Engine SELECT CAST('test plain returns' AS VARCHAR(60)) AS anon_1\n",
      "2020-08-03 14:15:08,514 INFO sqlalchemy.engine.base.Engine ()\n",
      "2020-08-03 14:15:08,524 INFO sqlalchemy.engine.base.Engine SELECT CAST('test unicode returns' AS VARCHAR(60)) AS anon_1\n",
      "2020-08-03 14:15:08,530 INFO sqlalchemy.engine.base.Engine ()\n"
     ]
    }
   ],
   "source": [
    "dbconn = engine.connect()"
   ]
  },
  {
   "cell_type": "code",
   "execution_count": 100,
   "metadata": {},
   "outputs": [
    {
     "name": "stdout",
     "output_type": "stream",
     "text": [
      "2020-08-03 14:15:13,821 INFO sqlalchemy.engine.base.Engine PRAGMA main.table_info(\"residencias\")\n",
      "2020-08-03 14:15:13,822 INFO sqlalchemy.engine.base.Engine ()\n",
      "2020-08-03 14:15:13,823 INFO sqlalchemy.engine.base.Engine PRAGMA temp.table_info(\"residencias\")\n",
      "2020-08-03 14:15:13,824 INFO sqlalchemy.engine.base.Engine ()\n",
      "2020-08-03 14:15:13,827 INFO sqlalchemy.engine.base.Engine \n",
      "CREATE TABLE residencias (\n",
      "\tid BIGINT, \n",
      "\tname TEXT, \n",
      "\thost_id BIGINT, \n",
      "\thost_name TEXT, \n",
      "\tneighbourhood TEXT, \n",
      "\tlatitude FLOAT, \n",
      "\tlongitude FLOAT, \n",
      "\troom_type TEXT, \n",
      "\tprice BIGINT, \n",
      "\tminimum_nights BIGINT, \n",
      "\tnumber_of_reviews BIGINT, \n",
      "\tlast_review TEXT, \n",
      "\treviews_per_month FLOAT, \n",
      "\tcalculated_host_listings_count BIGINT, \n",
      "\tavailability_365 BIGINT, \n",
      "\tneighbourhood_group TEXT\n",
      ")\n",
      "\n",
      "\n",
      "2020-08-03 14:15:13,829 INFO sqlalchemy.engine.base.Engine ()\n",
      "2020-08-03 14:15:14,052 INFO sqlalchemy.engine.base.Engine COMMIT\n",
      "2020-08-03 14:15:14,123 INFO sqlalchemy.engine.base.Engine BEGIN (implicit)\n",
      "2020-08-03 14:15:14,840 INFO sqlalchemy.engine.base.Engine INSERT INTO residencias (id, name, host_id, host_name, neighbourhood, latitude, longitude, room_type, price, minimum_nights, number_of_reviews, last_review, reviews_per_month, calculated_host_listings_count, availability_365, neighbourhood_group) VALUES (?, ?, ?, ?, ?, ?, ?, ?, ?, ?, ?, ?, ?, ?, ?, ?)\n",
      "2020-08-03 14:15:14,841 INFO sqlalchemy.engine.base.Engine ((2539, 'Clean & quiet apt home by the park', 2787, 'John', 'Kensington', 40.64749000000001, -73.97237, 'Private room', 149, 1, 9, '2018-10-19', 0.21, 6, 365, 'Brooklyn'), (2595, 'Skylit Midtown Castle', 2845, 'Jennifer', 'Midtown', 40.75362, -73.98376999999998, 'Entire home/apt', 225, 1, 45, '2019-05-21', 0.38, 2, 355, 'Manhattan'), (3831, 'Cozy Entire Floor of Brownstone', 4869, 'LisaRoxanne', 'Clinton Hill', 40.685140000000004, -73.95976, 'Entire home/apt', 89, 1, 270, '2019-07-05', 4.64, 1, 194, 'Brooklyn'), (5022, 'Entire Apt: Spacious Studio/Loft by central park', 7192, 'Laura', 'East Harlem', 40.79851, -73.94399, 'Entire home/apt', 80, 10, 9, '2018-11-19', 0.1, 1, 0, 'Manhattan'), (5099, 'Large Cozy 1 BR Apartment In Midtown East', 7322, 'Chris', 'Murray Hill', 40.74767, -73.975, 'Entire home/apt', 200, 3, 74, '2019-06-22', 0.59, 1, 129, 'Manhattan'), (5121, 'BlissArtsSpace!', 7356, 'Garon', 'Bedford-Stuyvesant', 40.68688, -73.95596, 'Private room', 60, 45, 49, '2017-10-05', 0.4, 1, 0, 'Brooklyn'), (5178, \"Large Furnished Room Near B'way \", 8967, 'Shunichi', \"Hell's Kitchen\", 40.76489, -73.98493, 'Private room', 79, 2, 430, '2019-06-24', 3.47, 1, 220, 'Manhattan'), (5203, 'Cozy Clean Guest Room - Family Apt', 7490, 'MaryEllen', 'Upper West Side', 40.80178, -73.96723, 'Private room', 79, 2, 118, '2017-07-21', 0.99, 1, 0, 'Manhattan')  ... displaying 10 of 37946 total bound parameter sets ...  (36438336, 'Seas The Moment', 211644523, 'Ben', 'Great Kills', 40.54179, -74.14275, 'Private room', 235, 1, 1, '2019-07-07', 1.0, 1, 87, 'Staten Island'), (36455809, 'Cozy Private Room in Bushwick, Brooklyn', 74162901, 'Christine', 'Bushwick', 40.69805, -73.92801, 'Private room', 30, 1, 1, '2019-07-08', 1.0, 1, 1, 'Brooklyn'))\n",
      "2020-08-03 14:15:15,254 INFO sqlalchemy.engine.base.Engine COMMIT\n"
     ]
    }
   ],
   "source": [
    "res.to_sql('residencias', dbconn, if_exists='fail', index=False)"
   ]
  },
  {
   "cell_type": "code",
   "execution_count": 108,
   "metadata": {},
   "outputs": [],
   "source": [
    "means = pd.read_csv('bases/media_preco.csv')"
   ]
  },
  {
   "cell_type": "code",
   "execution_count": 109,
   "metadata": {},
   "outputs": [
    {
     "name": "stdout",
     "output_type": "stream",
     "text": [
      "2020-08-03 16:53:15,810 INFO sqlalchemy.engine.base.Engine PRAGMA main.table_info(\"medias\")\n",
      "2020-08-03 16:53:15,813 INFO sqlalchemy.engine.base.Engine ()\n",
      "2020-08-03 16:53:15,844 INFO sqlalchemy.engine.base.Engine PRAGMA temp.table_info(\"medias\")\n",
      "2020-08-03 16:53:15,846 INFO sqlalchemy.engine.base.Engine ()\n",
      "2020-08-03 16:53:15,849 INFO sqlalchemy.engine.base.Engine \n",
      "CREATE TABLE medias (\n",
      "\tid BIGINT, \n",
      "\tneighbourhood_group TEXT, \n",
      "\troom_type TEXT, \n",
      "\tprice FLOAT\n",
      ")\n",
      "\n",
      "\n",
      "2020-08-03 16:53:15,851 INFO sqlalchemy.engine.base.Engine ()\n",
      "2020-08-03 16:53:16,159 INFO sqlalchemy.engine.base.Engine COMMIT\n",
      "2020-08-03 16:53:16,160 INFO sqlalchemy.engine.base.Engine CREATE INDEX ix_medias_id ON medias (id)\n",
      "2020-08-03 16:53:16,161 INFO sqlalchemy.engine.base.Engine ()\n",
      "2020-08-03 16:53:16,337 INFO sqlalchemy.engine.base.Engine COMMIT\n",
      "2020-08-03 16:53:16,365 INFO sqlalchemy.engine.base.Engine BEGIN (implicit)\n",
      "2020-08-03 16:53:16,366 INFO sqlalchemy.engine.base.Engine INSERT INTO medias (id, neighbourhood_group, room_type, price) VALUES (?, ?, ?, ?)\n",
      "2020-08-03 16:53:16,368 INFO sqlalchemy.engine.base.Engine ((0, 'Brooklyn', 'Entire home/apt', 171.28189729133473), (1, 'Brooklyn', 'Private room', 73.34956195244055), (2, 'Brooklyn', 'Shared room', 45.45862068965517), (3, 'Manhattan', 'Entire home/apt', 230.2009636619153), (4, 'Manhattan', 'Private room', 106.60748849754086), (5, 'Manhattan', 'Shared room', 77.98033707865169), (6, 'Queens', 'Entire home/apt', 139.22560275545348), (7, 'Queens', 'Private room', 69.30283793876026)  ... displaying 10 of 12 total bound parameter sets ...  (10, 'Staten Island', 'Private room', 57.58490566037736), (11, 'Staten Island', 'Shared room', 57.6))\n",
      "2020-08-03 16:53:16,373 INFO sqlalchemy.engine.base.Engine COMMIT\n"
     ]
    }
   ],
   "source": [
    "means.to_sql('medias', dbconn, if_exists='fail',  index_label='id')"
   ]
  },
  {
   "cell_type": "code",
   "execution_count": 103,
   "metadata": {},
   "outputs": [
    {
     "name": "stdout",
     "output_type": "stream",
     "text": [
      "2020-08-03 14:15:50,275 INFO sqlalchemy.engine.base.Engine \n",
      "CREATE TABLE likes (\n",
      "\tid BIGINT, \n",
      "\tresidencia_id BIGINT,\n",
      "    like INT default 1\n",
      ")\n",
      "\n",
      "2020-08-03 14:15:50,284 INFO sqlalchemy.engine.base.Engine ()\n",
      "2020-08-03 14:15:50,574 INFO sqlalchemy.engine.base.Engine COMMIT\n"
     ]
    },
    {
     "data": {
      "text/plain": [
       "<sqlalchemy.engine.result.ResultProxy at 0x7f77f46e1100>"
      ]
     },
     "execution_count": 103,
     "metadata": {},
     "output_type": "execute_result"
    }
   ],
   "source": [
    "sql_likes = '''\n",
    "CREATE TABLE likes (\n",
    "\tid BIGINT, \n",
    "\tresidencia_id BIGINT,\n",
    "    like INT default 1\n",
    ")\n",
    "'''\n",
    "dbconn.execute(sql_likes)"
   ]
  }
 ],
 "metadata": {
  "kernelspec": {
   "display_name": "Python 3",
   "language": "python",
   "name": "python3"
  },
  "language_info": {
   "codemirror_mode": {
    "name": "ipython",
    "version": 3
   },
   "file_extension": ".py",
   "mimetype": "text/x-python",
   "name": "python",
   "nbconvert_exporter": "python",
   "pygments_lexer": "ipython3",
   "version": "3.8.3"
  }
 },
 "nbformat": 4,
 "nbformat_minor": 4
}
